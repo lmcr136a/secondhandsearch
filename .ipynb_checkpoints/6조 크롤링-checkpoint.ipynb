{
 "cells": [
  {
   "cell_type": "code",
   "execution_count": 6,
   "id": "6d4260d3",
   "metadata": {},
   "outputs": [],
   "source": [
    "from flask import Flask, request\n",
    "import requests\n",
    "import pandas as pd\n",
    "import json\n",
    "from bs4 import BeautifulSoup\n",
    "from requests_html import HTMLSession, AsyncHTMLSession "
   ]
  },
  {
   "cell_type": "code",
   "execution_count": 2,
   "id": "158195ad",
   "metadata": {},
   "outputs": [],
   "source": [
    "keyword = '갤럭시'\n",
    "url_sh1 = f'https://m.bunjang.co.kr/search/products?q={keyword}'  # 번개장터\n",
    "url_sh2 = f'https://m.joongna.com/search-list/product?searchword={keyword}'  # 중고나라\n",
    "url_new1 = f'https://search.shopping.naver.com/search/all?query={keyword}'  # 네이버쇼핑\n",
    "url_new2 = f'https://www.coupang.com/np/search?component=&q={keyword}'  # 쿠팡\n",
    "TOTAL_NUM = 10\n",
    "NUM_FROM_A_SITE = 20\n",
    "\n",
    "CLS_NAME = ['title', 'price', 'image', 'link']\n",
    "CLS_SH1 = [['div', 'sc-fcdeBU iVCsji'], ['div', 'sc-gmeYpB iBMbn'], '상품 이미지']\n",
    "CLS_SH2 = [['span', 'ProductItemV2_title__1KDby'], ['p', 'ProductItemV2_price__1a5yb mt3'], '이미지']\n",
    "CLS_NEW1 = [['div', 'basicList_title__3P9Q7'], ['span', 'price_num__2WUXn']]\n",
    "CLS_NEW2 = [['div', 'name'], ['strong', 'price-value'], ['img', 'search-product-wrap-img']]"
   ]
  },
  {
   "cell_type": "code",
   "execution_count": 3,
   "id": "9e199295",
   "metadata": {},
   "outputs": [],
   "source": [
    "\n",
    "def get_shs_from_bs(bs, cls_names, url):    \n",
    "#     session = AsyncHTMLSession()\n",
    "#     resp = await session.get(url_sh1)\n",
    "#     await resp.html.arender(sleep = 1) \n",
    "#     bs = BeautifulSoup(resp.html.raw_html, 'html.parser')\n",
    "\n",
    "    df = pd.DataFrame(columns=CLS_NAME)\n",
    "    for i, cls in enumerate(cls_names[:2]):\n",
    "        df[CLS_NAME[i]] = list(map(lambda x: x.get_text(), bs.find_all(*cls)[:NUM_FROM_A_SITE]))\n",
    "    df[CLS_NAME[2]] = list(map(lambda x: x['src'], bs.find_all('img', alt=cls_names[2])[:NUM_FROM_A_SITE]))\n",
    "    df[CLS_NAME[3]] = url\n",
    "    return df\n",
    "\n",
    "\n",
    "def get_new_from_naver(bs, cls_names, url):    \n",
    "#     session = AsyncHTMLSession()\n",
    "#     resp = await session.get(url_sh1)\n",
    "#     await resp.html.arender(sleep = 1) \n",
    "#     bs = BeautifulSoup(resp.html.raw_html, 'html.parser')\n",
    "\n",
    "    df = pd.DataFrame(columns=CLS_NAME)\n",
    "    for i, cls in enumerate(cls_names[:2]):\n",
    "        df[CLS_NAME[i]] = list(map(lambda x: x.get_text(), bs.find_all(*cls)[:NUM_FROM_A_SITE]))\n",
    "        \n",
    "    #############TODO\n",
    "    imgs = list(map(lambda x: x['src'], bs.find_all('a',alt=df[CLS_NAME[0]])))\n",
    "    if len(imgs) > NUM_FROM_A_SITE:\n",
    "        df[CLS_NAME[2]] = imgs[:NUM_FROM_A_SITE] ## 이렇게 나와야함\n",
    "    df[CLS_NAME[3]] = url\n",
    "    return df\n",
    "\n",
    "\n",
    "def get_new_from_coupang(bs, cls_names, url):    \n",
    "    df = pd.DataFrame(columns=CLS_NAME)\n",
    "    for i, cls in enumerate(cls_names[:2]):\n",
    "        df[CLS_NAME[i]] = list(map(lambda x: x.get_text(), bs.find_all(*cls)[:NUM_FROM_A_SITE]))\n",
    "        \n",
    "    df[CLS_NAME[2]] = list(map(lambda x: x['src'], bs.find_all(*cls_names[2])[:NUM_FROM_A_SITE]))\n",
    "    df[CLS_NAME[3]] = url\n",
    "    return df\n",
    "\n",
    "\n",
    "def string_price_to_num(str_price):\n",
    "    str_price = str_price.strip().strip(\"원\").split(\",\")\n",
    "    s = ''\n",
    "    for string in str_price:\n",
    "        s += string\n",
    "    return int(s)\n",
    "\n",
    "\n",
    "def alysis_dfs(df1, df2):\n",
    "    df = pd.concat([df1, df2], axis=0)\n",
    "\n",
    "    df['price'] = list(map(string_price_to_num, df['price']))  # 가격 숫자로\n",
    "    df = df.sort_values('price')[:TOTAL_NUM].reset_index()  # 가격 정렬\n",
    "    items = []\n",
    "    for sh in list(df.iterrows()):\n",
    "        items.append({\n",
    "            'title': sh[1]['title'],\n",
    "            'price': sh[1]['price'],\n",
    "            'image': sh[1]['image'],\n",
    "            'link': sh[1]['link']\n",
    "        })\n",
    "    return items\n",
    "\n",
    "        "
   ]
  },
  {
   "cell_type": "code",
   "execution_count": 4,
   "id": "c141b39b",
   "metadata": {},
   "outputs": [
    {
     "name": "stdout",
     "output_type": "stream",
     "text": [
      "[{'title': '갤럭시s10 128GB 블랙', 'price': 100000, 'image': 'https://media.bunjang.co.kr/product/185989124_1_1650775162_w292.jpg', 'link': 'https://m.bunjang.co.kr/search/products?q=갤럭시'}, {'title': '갤럭시 버즈프로 단순개봉 풀박스 새제품 안산버즈프로', 'price': 105000, 'image': 'https://img2.joongna.com/media/original/2022/03/06/1646554543613lIG_NFPMF.jpg?impolicy=thumb&size=150', 'link': 'https://m.joongna.com/search-list/product?searchword=갤럭시'}, {'title': '갤럭시엑티브2 40mm (R830) 442174', 'price': 110000, 'image': 'https://media.bunjang.co.kr/product/186838292_1_1651568248_w292.jpg', 'link': 'https://m.bunjang.co.kr/search/products?q=갤럭시'}, {'title': '갤럭시S8 64g S급 블랙 최저가 선착순 안산s8', 'price': 119000, 'image': 'https://img2.joongna.com/media/original/2022/04/26/1650956822489oBw_TbxFH.jpg?impolicy=thumb&size=150', 'link': 'https://m.joongna.com/search-list/product?searchword=갤럭시'}, {'title': '삼성 갤럭시a40 화이트 무잔상 A급 A405 [순천중고폰]', 'price': 120000, 'image': 'https://media.bunjang.co.kr/product/186838259_1_1651568230_w292.jpg', 'link': 'https://m.bunjang.co.kr/search/products?q=갤럭시'}, {'title': '갤럭시 S9 골드 13만 정상해지', 'price': 130000, 'image': 'https://img2.joongna.com/media/original/2022/05/03/1651567655132dW7_MmXlL.jpg?impolicy=thumb&size=150', 'link': 'https://m.joongna.com/search-list/product?searchword=갤럭시'}, {'title': '갤럭시S9 64G 외관S급 골드 최저가 안산s9', 'price': 139000, 'image': 'https://img2.joongna.com/media/original/2022/04/26/16509575828067mw_xxTsi.jpg?impolicy=thumb&size=150', 'link': 'https://m.joongna.com/search-list/product?searchword=갤럭시'}, {'title': '갤럭시S10E 128g 무잔상A급 특가 안산s10e', 'price': 170000, 'image': 'https://img2.joongna.com/media/original/2022/05/03/1651553246888BLE_alTUO.jpg?impolicy=thumb&size=150', 'link': 'https://m.joongna.com/search-list/product?searchword=갤럭시'}, {'title': '갤럭시S10 LTE 128G 무잔상A급 안산s10', 'price': 230000, 'image': 'https://img2.joongna.com/media/original/2022/05/02/1651491854233JEx_IGxud.jpg?impolicy=thumb&size=150', 'link': 'https://m.joongna.com/search-list/product?searchword=갤럭시'}, {'title': '갤럭시Z플립 256GB 미러퍼플 색상 판매합니다', 'price': 250000, 'image': 'https://media.bunjang.co.kr/product/186838261_1_1651568231_w292.jpg', 'link': 'https://m.bunjang.co.kr/search/products?q=갤럭시'}]\n",
      "                           title       price image  \\\n",
      "0     삼성전자 갤럭시S22 5G 256GB [자급제]    790,690원   NaN   \n",
      "1     삼성전자 갤럭시A53 5G 128GB [자급제]    329,000원   NaN   \n",
      "2  삼성전자 갤럭시S22울트라 5G 256GB [자급제]  1,147,260원   NaN   \n",
      "3     삼성전자 갤럭시 Z 플립3 256GB (자급제)    933,160원   NaN   \n",
      "4  삼성전자 갤럭시S22울트라 5G 512GB [자급제]  1,241,810원   NaN   \n",
      "\n",
      "                                                link  \n",
      "0  https://search.shopping.naver.com/search/all?q...  \n",
      "1  https://search.shopping.naver.com/search/all?q...  \n",
      "2  https://search.shopping.naver.com/search/all?q...  \n",
      "3  https://search.shopping.naver.com/search/all?q...  \n",
      "4  https://search.shopping.naver.com/search/all?q...  \n",
      "[{'title': '우먼스9999 갤럭시워치 4 베젤링 케이스 갤워치4 베젤링 커버 프레임 40 44 mm 케이스', 'price': 9900, 'image': '//thumbnail9.coupangcdn.com/thumbnails/remote/230x230ex/image/vendor_inventory/1651/07f8dcedff226e34e520ca1b1921d53711a135689fff72f5ed05ad69c14b.jpg', 'link': 'https://www.coupang.com/np/search?component=&q=갤럭시'}, {'title': '비욘드마켓 갤럭시X커버5 케이스 목걸이 팝잇 지갑 XCOVER5 잼꾸러기폰 신비키즈폰2', 'price': 12800, 'image': '//img1a.coupangcdn.com/image/coupang/search/blank1x1.gif', 'link': 'https://www.coupang.com/np/search?component=&q=갤럭시'}, {'title': '신지모루 갤럭시워치 9H 고강도 풀커버 강화유리 3p + 풀커버 케이스 세트, 크리스탈 클리어(케이스)', 'price': 13900, 'image': '//img1a.coupangcdn.com/image/coupang/search/blank1x1.gif', 'link': 'https://www.coupang.com/np/search?component=&q=갤럭시'}, {'title': '우먼스9999 갤럭시 워치4 클래식 일체형 스트랩 블랙 42 46 mm 시계줄 밴드 줄, 46mm', 'price': 17900, 'image': '//img1a.coupangcdn.com/image/coupang/search/blank1x1.gif', 'link': 'https://www.coupang.com/np/search?component=&q=갤럭시'}, {'title': '\\n                                                        삼성전자 갤럭시 A32 64GB 새제품 미개봉 효도폰 학생폰, 화이트, 갤럭시 A32 64GB(케이스필름증정)\\n                                                    ', 'price': 79600, 'image': '//thumbnail9.coupangcdn.com/thumbnails/remote/230x230ex/image/vendor_inventory/6f72/a3f1edff7624aec7917a1129ec6171e5cbe38b66f53eda585df1cb030b80.png', 'link': 'https://www.coupang.com/np/search?component=&q=갤럭시'}, {'title': '\\n                                                        삼성전자 갤럭시 M12 공기계 32GB, 블랙\\n                                                    ', 'price': 189000, 'image': '//thumbnail6.coupangcdn.com/thumbnails/remote/230x230ex/image/vendor_inventory/85a7/75255a05a72db9a4dc91234ddc48cfa64dd251865391b59e714432bc7c99.jpeg', 'link': 'https://www.coupang.com/np/search?component=&q=갤럭시'}, {'title': '\\n                                                        삼성전자 갤럭시 A12 자급제 핸드폰 32GB, 블랙\\n                                                    ', 'price': 221000, 'image': '//thumbnail10.coupangcdn.com/thumbnails/remote/230x230ex/image/vendor_inventory/5a6f/a63d2d6a022879bbda02e02c1265460390b5280311eff9982c61f48ffe26.jpg', 'link': 'https://www.coupang.com/np/search?component=&q=갤럭시'}, {'title': '삼성전자 갤럭시 A23 공기계 128GB, 블루, SM-A235NLBOKOO', 'price': 304590, 'image': '//thumbnail9.coupangcdn.com/thumbnails/remote/230x230ex/image/retail/images/2022/03/23/14/0/113a9aac-2a85-4dd4-baf3-778fe95986d0.jpg', 'link': 'https://www.coupang.com/np/search?component=&q=갤럭시'}, {'title': '삼성전자 갤럭시 A23 공기계 128GB, 화이트, SM-A235NZWOKOO', 'price': 304590, 'image': '//thumbnail6.coupangcdn.com/thumbnails/remote/230x230ex/image/retail/images/2022/03/23/14/3/409ef56b-88a7-449d-a715-928780540644.jpg', 'link': 'https://www.coupang.com/np/search?component=&q=갤럭시'}, {'title': '삼성전자 갤럭시 A23 공기계 128GB, 블랙, SM-A235NZKOKOO', 'price': 304590, 'image': '//thumbnail8.coupangcdn.com/thumbnails/remote/230x230ex/image/retail/images/2022/03/23/14/8/f6348802-9909-4ecf-be7a-39070cf38d36.jpg', 'link': 'https://www.coupang.com/np/search?component=&q=갤럭시'}]\n"
     ]
    }
   ],
   "source": [
    "## 번개장터\n",
    "session = AsyncHTMLSession()\n",
    "resp = await session.get(url_sh1)\n",
    "await resp.html.arender(sleep = 1) \n",
    "bs = BeautifulSoup(resp.html.raw_html, 'html.parser')\n",
    "\n",
    "sh_df = get_shs_from_bs(bs, CLS_SH1, url_sh1)\n",
    "\n",
    "## 중고나라\n",
    "session = AsyncHTMLSession()\n",
    "resp = await session.get(url_sh2)\n",
    "await resp.html.arender(sleep = 1) \n",
    "bs = BeautifulSoup(resp.html.raw_html, 'html.parser')\n",
    "\n",
    "sh_df_ = get_shs_from_bs(bs, CLS_SH2, url_sh2)\n",
    "sh_items = alysis_dfs(sh_df, sh_df_)\n",
    "print(sh_items)\n",
    "    \n",
    "## 네이버쇼핑\n",
    "session = AsyncHTMLSession()\n",
    "resp = await session.get(url_new1)\n",
    "await resp.html.arender(sleep = 1) \n",
    "bs = BeautifulSoup(resp.html.raw_html, 'html.parser')\n",
    "new_df = get_new_from_naver(bs, CLS_NEW1, url_new1)\n",
    "print(new_df)\n",
    "\n",
    "## 하나쯤 더 있으면 좋은데 다나와는 안됨\n",
    "page = requests.get(url_new2)\n",
    "bs = BeautifulSoup(page.text, 'html.parser')\n",
    "new_df_ = get_new_from_coupang(bs, CLS_NEW2, url_new2)\n",
    "new_items = alysis_dfs(new_df, new_df_)\n",
    "print(new_items)"
   ]
  },
  {
   "cell_type": "code",
   "execution_count": 7,
   "id": "3b428599",
   "metadata": {},
   "outputs": [
    {
     "data": {
      "text/plain": [
       "'{\"new\": [{\"title\": \"\\\\uc6b0\\\\uba3c\\\\uc2a49999 \\\\uac24\\\\ub7ed\\\\uc2dc\\\\uc6cc\\\\uce58 4 \\\\ubca0\\\\uc824\\\\ub9c1 \\\\ucf00\\\\uc774\\\\uc2a4 \\\\uac24\\\\uc6cc\\\\uce584 \\\\ubca0\\\\uc824\\\\ub9c1 \\\\ucee4\\\\ubc84 \\\\ud504\\\\ub808\\\\uc784 40 44 mm \\\\ucf00\\\\uc774\\\\uc2a4\", \"price\": 9900, \"image\": \"//thumbnail9.coupangcdn.com/thumbnails/remote/230x230ex/image/vendor_inventory/1651/07f8dcedff226e34e520ca1b1921d53711a135689fff72f5ed05ad69c14b.jpg\", \"link\": \"https://www.coupang.com/np/search?component=&q=\\\\uac24\\\\ub7ed\\\\uc2dc\"}, {\"title\": \"\\\\ube44\\\\uc698\\\\ub4dc\\\\ub9c8\\\\ucf13 \\\\uac24\\\\ub7ed\\\\uc2dcX\\\\ucee4\\\\ubc845 \\\\ucf00\\\\uc774\\\\uc2a4 \\\\ubaa9\\\\uac78\\\\uc774 \\\\ud31d\\\\uc787 \\\\uc9c0\\\\uac11 XCOVER5 \\\\uc7bc\\\\uafb8\\\\ub7ec\\\\uae30\\\\ud3f0 \\\\uc2e0\\\\ube44\\\\ud0a4\\\\uc988\\\\ud3f02\", \"price\": 12800, \"image\": \"//img1a.coupangcdn.com/image/coupang/search/blank1x1.gif\", \"link\": \"https://www.coupang.com/np/search?component=&q=\\\\uac24\\\\ub7ed\\\\uc2dc\"}, {\"title\": \"\\\\uc2e0\\\\uc9c0\\\\ubaa8\\\\ub8e8 \\\\uac24\\\\ub7ed\\\\uc2dc\\\\uc6cc\\\\uce58 9H \\\\uace0\\\\uac15\\\\ub3c4 \\\\ud480\\\\ucee4\\\\ubc84 \\\\uac15\\\\ud654\\\\uc720\\\\ub9ac 3p + \\\\ud480\\\\ucee4\\\\ubc84 \\\\ucf00\\\\uc774\\\\uc2a4 \\\\uc138\\\\ud2b8, \\\\ud06c\\\\ub9ac\\\\uc2a4\\\\ud0c8 \\\\ud074\\\\ub9ac\\\\uc5b4(\\\\ucf00\\\\uc774\\\\uc2a4)\", \"price\": 13900, \"image\": \"//img1a.coupangcdn.com/image/coupang/search/blank1x1.gif\", \"link\": \"https://www.coupang.com/np/search?component=&q=\\\\uac24\\\\ub7ed\\\\uc2dc\"}, {\"title\": \"\\\\uc6b0\\\\uba3c\\\\uc2a49999 \\\\uac24\\\\ub7ed\\\\uc2dc \\\\uc6cc\\\\uce584 \\\\ud074\\\\ub798\\\\uc2dd \\\\uc77c\\\\uccb4\\\\ud615 \\\\uc2a4\\\\ud2b8\\\\ub7a9 \\\\ube14\\\\ub799 42 46 mm \\\\uc2dc\\\\uacc4\\\\uc904 \\\\ubc34\\\\ub4dc \\\\uc904, 46mm\", \"price\": 17900, \"image\": \"//img1a.coupangcdn.com/image/coupang/search/blank1x1.gif\", \"link\": \"https://www.coupang.com/np/search?component=&q=\\\\uac24\\\\ub7ed\\\\uc2dc\"}, {\"title\": \"\\\\n                                                        \\\\uc0bc\\\\uc131\\\\uc804\\\\uc790 \\\\uac24\\\\ub7ed\\\\uc2dc A32 64GB \\\\uc0c8\\\\uc81c\\\\ud488 \\\\ubbf8\\\\uac1c\\\\ubd09 \\\\ud6a8\\\\ub3c4\\\\ud3f0 \\\\ud559\\\\uc0dd\\\\ud3f0, \\\\ud654\\\\uc774\\\\ud2b8, \\\\uac24\\\\ub7ed\\\\uc2dc A32 64GB(\\\\ucf00\\\\uc774\\\\uc2a4\\\\ud544\\\\ub984\\\\uc99d\\\\uc815)\\\\n                                                    \", \"price\": 79600, \"image\": \"//thumbnail9.coupangcdn.com/thumbnails/remote/230x230ex/image/vendor_inventory/6f72/a3f1edff7624aec7917a1129ec6171e5cbe38b66f53eda585df1cb030b80.png\", \"link\": \"https://www.coupang.com/np/search?component=&q=\\\\uac24\\\\ub7ed\\\\uc2dc\"}, {\"title\": \"\\\\n                                                        \\\\uc0bc\\\\uc131\\\\uc804\\\\uc790 \\\\uac24\\\\ub7ed\\\\uc2dc M12 \\\\uacf5\\\\uae30\\\\uacc4 32GB, \\\\ube14\\\\ub799\\\\n                                                    \", \"price\": 189000, \"image\": \"//thumbnail6.coupangcdn.com/thumbnails/remote/230x230ex/image/vendor_inventory/85a7/75255a05a72db9a4dc91234ddc48cfa64dd251865391b59e714432bc7c99.jpeg\", \"link\": \"https://www.coupang.com/np/search?component=&q=\\\\uac24\\\\ub7ed\\\\uc2dc\"}, {\"title\": \"\\\\n                                                        \\\\uc0bc\\\\uc131\\\\uc804\\\\uc790 \\\\uac24\\\\ub7ed\\\\uc2dc A12 \\\\uc790\\\\uae09\\\\uc81c \\\\ud578\\\\ub4dc\\\\ud3f0 32GB, \\\\ube14\\\\ub799\\\\n                                                    \", \"price\": 221000, \"image\": \"//thumbnail10.coupangcdn.com/thumbnails/remote/230x230ex/image/vendor_inventory/5a6f/a63d2d6a022879bbda02e02c1265460390b5280311eff9982c61f48ffe26.jpg\", \"link\": \"https://www.coupang.com/np/search?component=&q=\\\\uac24\\\\ub7ed\\\\uc2dc\"}, {\"title\": \"\\\\uc0bc\\\\uc131\\\\uc804\\\\uc790 \\\\uac24\\\\ub7ed\\\\uc2dc A23 \\\\uacf5\\\\uae30\\\\uacc4 128GB, \\\\ube14\\\\ub8e8, SM-A235NLBOKOO\", \"price\": 304590, \"image\": \"//thumbnail9.coupangcdn.com/thumbnails/remote/230x230ex/image/retail/images/2022/03/23/14/0/113a9aac-2a85-4dd4-baf3-778fe95986d0.jpg\", \"link\": \"https://www.coupang.com/np/search?component=&q=\\\\uac24\\\\ub7ed\\\\uc2dc\"}, {\"title\": \"\\\\uc0bc\\\\uc131\\\\uc804\\\\uc790 \\\\uac24\\\\ub7ed\\\\uc2dc A23 \\\\uacf5\\\\uae30\\\\uacc4 128GB, \\\\ud654\\\\uc774\\\\ud2b8, SM-A235NZWOKOO\", \"price\": 304590, \"image\": \"//thumbnail6.coupangcdn.com/thumbnails/remote/230x230ex/image/retail/images/2022/03/23/14/3/409ef56b-88a7-449d-a715-928780540644.jpg\", \"link\": \"https://www.coupang.com/np/search?component=&q=\\\\uac24\\\\ub7ed\\\\uc2dc\"}, {\"title\": \"\\\\uc0bc\\\\uc131\\\\uc804\\\\uc790 \\\\uac24\\\\ub7ed\\\\uc2dc A23 \\\\uacf5\\\\uae30\\\\uacc4 128GB, \\\\ube14\\\\ub799, SM-A235NZKOKOO\", \"price\": 304590, \"image\": \"//thumbnail8.coupangcdn.com/thumbnails/remote/230x230ex/image/retail/images/2022/03/23/14/8/f6348802-9909-4ecf-be7a-39070cf38d36.jpg\", \"link\": \"https://www.coupang.com/np/search?component=&q=\\\\uac24\\\\ub7ed\\\\uc2dc\"}], \"sh\": [{\"title\": \"\\\\uac24\\\\ub7ed\\\\uc2dcs10 128GB \\\\ube14\\\\ub799\", \"price\": 100000, \"image\": \"https://media.bunjang.co.kr/product/185989124_1_1650775162_w292.jpg\", \"link\": \"https://m.bunjang.co.kr/search/products?q=\\\\uac24\\\\ub7ed\\\\uc2dc\"}, {\"title\": \"\\\\uac24\\\\ub7ed\\\\uc2dc \\\\ubc84\\\\uc988\\\\ud504\\\\ub85c \\\\ub2e8\\\\uc21c\\\\uac1c\\\\ubd09 \\\\ud480\\\\ubc15\\\\uc2a4 \\\\uc0c8\\\\uc81c\\\\ud488 \\\\uc548\\\\uc0b0\\\\ubc84\\\\uc988\\\\ud504\\\\ub85c\", \"price\": 105000, \"image\": \"https://img2.joongna.com/media/original/2022/03/06/1646554543613lIG_NFPMF.jpg?impolicy=thumb&size=150\", \"link\": \"https://m.joongna.com/search-list/product?searchword=\\\\uac24\\\\ub7ed\\\\uc2dc\"}, {\"title\": \"\\\\uac24\\\\ub7ed\\\\uc2dc\\\\uc5d1\\\\ud2f0\\\\ube0c2 40mm (R830) 442174\", \"price\": 110000, \"image\": \"https://media.bunjang.co.kr/product/186838292_1_1651568248_w292.jpg\", \"link\": \"https://m.bunjang.co.kr/search/products?q=\\\\uac24\\\\ub7ed\\\\uc2dc\"}, {\"title\": \"\\\\uac24\\\\ub7ed\\\\uc2dcS8 64g S\\\\uae09 \\\\ube14\\\\ub799 \\\\ucd5c\\\\uc800\\\\uac00 \\\\uc120\\\\ucc29\\\\uc21c \\\\uc548\\\\uc0b0s8\", \"price\": 119000, \"image\": \"https://img2.joongna.com/media/original/2022/04/26/1650956822489oBw_TbxFH.jpg?impolicy=thumb&size=150\", \"link\": \"https://m.joongna.com/search-list/product?searchword=\\\\uac24\\\\ub7ed\\\\uc2dc\"}, {\"title\": \"\\\\uc0bc\\\\uc131 \\\\uac24\\\\ub7ed\\\\uc2dca40 \\\\ud654\\\\uc774\\\\ud2b8 \\\\ubb34\\\\uc794\\\\uc0c1 A\\\\uae09 A405 [\\\\uc21c\\\\ucc9c\\\\uc911\\\\uace0\\\\ud3f0]\", \"price\": 120000, \"image\": \"https://media.bunjang.co.kr/product/186838259_1_1651568230_w292.jpg\", \"link\": \"https://m.bunjang.co.kr/search/products?q=\\\\uac24\\\\ub7ed\\\\uc2dc\"}, {\"title\": \"\\\\uac24\\\\ub7ed\\\\uc2dc S9 \\\\uace8\\\\ub4dc 13\\\\ub9cc \\\\uc815\\\\uc0c1\\\\ud574\\\\uc9c0\", \"price\": 130000, \"image\": \"https://img2.joongna.com/media/original/2022/05/03/1651567655132dW7_MmXlL.jpg?impolicy=thumb&size=150\", \"link\": \"https://m.joongna.com/search-list/product?searchword=\\\\uac24\\\\ub7ed\\\\uc2dc\"}, {\"title\": \"\\\\uac24\\\\ub7ed\\\\uc2dcS9 64G \\\\uc678\\\\uad00S\\\\uae09 \\\\uace8\\\\ub4dc \\\\ucd5c\\\\uc800\\\\uac00 \\\\uc548\\\\uc0b0s9\", \"price\": 139000, \"image\": \"https://img2.joongna.com/media/original/2022/04/26/16509575828067mw_xxTsi.jpg?impolicy=thumb&size=150\", \"link\": \"https://m.joongna.com/search-list/product?searchword=\\\\uac24\\\\ub7ed\\\\uc2dc\"}, {\"title\": \"\\\\uac24\\\\ub7ed\\\\uc2dcS10E 128g \\\\ubb34\\\\uc794\\\\uc0c1A\\\\uae09 \\\\ud2b9\\\\uac00 \\\\uc548\\\\uc0b0s10e\", \"price\": 170000, \"image\": \"https://img2.joongna.com/media/original/2022/05/03/1651553246888BLE_alTUO.jpg?impolicy=thumb&size=150\", \"link\": \"https://m.joongna.com/search-list/product?searchword=\\\\uac24\\\\ub7ed\\\\uc2dc\"}, {\"title\": \"\\\\uac24\\\\ub7ed\\\\uc2dcS10 LTE 128G \\\\ubb34\\\\uc794\\\\uc0c1A\\\\uae09 \\\\uc548\\\\uc0b0s10\", \"price\": 230000, \"image\": \"https://img2.joongna.com/media/original/2022/05/02/1651491854233JEx_IGxud.jpg?impolicy=thumb&size=150\", \"link\": \"https://m.joongna.com/search-list/product?searchword=\\\\uac24\\\\ub7ed\\\\uc2dc\"}, {\"title\": \"\\\\uac24\\\\ub7ed\\\\uc2dcZ\\\\ud50c\\\\ub9bd 256GB \\\\ubbf8\\\\ub7ec\\\\ud37c\\\\ud50c \\\\uc0c9\\\\uc0c1 \\\\ud310\\\\ub9e4\\\\ud569\\\\ub2c8\\\\ub2e4\", \"price\": 250000, \"image\": \"https://media.bunjang.co.kr/product/186838261_1_1651568231_w292.jpg\", \"link\": \"https://m.bunjang.co.kr/search/products?q=\\\\uac24\\\\ub7ed\\\\uc2dc\"}]}'"
      ]
     },
     "execution_count": 7,
     "metadata": {},
     "output_type": "execute_result"
    }
   ],
   "source": [
    "json.dumps({\n",
    "        \"new\":new_items,\n",
    "        \"sh\":sh_items\n",
    "        })"
   ]
  },
  {
   "cell_type": "code",
   "execution_count": null,
   "id": "887d95dc",
   "metadata": {},
   "outputs": [],
   "source": []
  },
  {
   "cell_type": "code",
   "execution_count": null,
   "id": "4c748ae3",
   "metadata": {},
   "outputs": [],
   "source": []
  }
 ],
 "metadata": {
  "kernelspec": {
   "display_name": "Python 3 (ipykernel)",
   "language": "python",
   "name": "python3"
  },
  "language_info": {
   "codemirror_mode": {
    "name": "ipython",
    "version": 3
   },
   "file_extension": ".py",
   "mimetype": "text/x-python",
   "name": "python",
   "nbconvert_exporter": "python",
   "pygments_lexer": "ipython3",
   "version": "3.9.7"
  }
 },
 "nbformat": 4,
 "nbformat_minor": 5
}
